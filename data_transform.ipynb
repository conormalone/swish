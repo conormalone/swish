{
 "cells": [
  {
   "cell_type": "code",
   "execution_count": 1,
   "id": "58273e54",
   "metadata": {},
   "outputs": [],
   "source": [
    "import pandas as pd\n",
    "import numpy as np"
   ]
  },
  {
   "cell_type": "code",
   "execution_count": 2,
   "id": "1dc2f7eb",
   "metadata": {},
   "outputs": [],
   "source": [
    "data = pd.read_csv(\"epl_event_data_15.csv\")"
   ]
  },
  {
   "cell_type": "code",
   "execution_count": 3,
   "id": "c4c6a22f",
   "metadata": {},
   "outputs": [
    {
     "data": {
      "text/plain": [
       "Index(['Unnamed: 0', 'id', 'index', 'period', 'timestamp', 'minute', 'second',\n",
       "       'possession', 'duration', 'related_events', 'location',\n",
       "       'under_pressure', 'counterpress', 'type.id', 'type.name',\n",
       "       'possession_team.id', 'possession_team.name', 'play_pattern.id',\n",
       "       'play_pattern.name', 'team.id', 'team.name', 'tactics.formation',\n",
       "       'tactics.lineup', 'player.id', 'player.name', 'position.id',\n",
       "       'position.name', 'pass.length', 'pass.angle', 'pass.height.id',\n",
       "       'pass.height.name', 'pass.body_part.id', 'pass.body_part.name',\n",
       "       'pass.type.id', 'pass.type.name', 'pass.outcome.id',\n",
       "       'pass.outcome.name', 'pass.receipient.id', 'pass.recipient.name',\n",
       "       'pass.end_location', 'dribble.outcome.id', 'dribble.outcome.name',\n",
       "       'ball_receipt.outcome.id', 'ball_receipt.outcome.name',\n",
       "       'carry.end_location', 'duel.outcome.id', 'duel.outcome.name',\n",
       "       'competition_id', 'match_id'],\n",
       "      dtype='object')"
      ]
     },
     "execution_count": 3,
     "metadata": {},
     "output_type": "execute_result"
    }
   ],
   "source": [
    "data.columns"
   ]
  },
  {
   "cell_type": "code",
   "execution_count": 4,
   "id": "3c5b9080",
   "metadata": {},
   "outputs": [
    {
     "data": {
      "text/plain": [
       "np.float64(2.7739902521720703)"
      ]
     },
     "execution_count": 4,
     "metadata": {},
     "output_type": "execute_result"
    }
   ],
   "source": [
    "possession_length_count = data[[\"match_id\",\"possession\",\"player.id\",\"id\"]].groupby([\"match_id\",\"possession\",\"player.id\"],as_index=False).count()\n",
    "np.mean(possession_length_count.id)"
   ]
  },
  {
   "cell_type": "code",
   "execution_count": 5,
   "id": "af722e57",
   "metadata": {},
   "outputs": [
    {
     "data": {
      "text/plain": [
       "463171"
      ]
     },
     "execution_count": 5,
     "metadata": {},
     "output_type": "execute_result"
    }
   ],
   "source": [
    "sum(possession_length_count.id<10)"
   ]
  },
  {
   "cell_type": "code",
   "execution_count": 6,
   "id": "f268d184",
   "metadata": {},
   "outputs": [
    {
     "name": "stdout",
     "output_type": "stream",
     "text": [
      "0.7892180546726001\n"
     ]
    }
   ],
   "source": [
    "print(sum(possession_length_count.id<4)/len(possession_length_count))"
   ]
  },
  {
   "cell_type": "code",
   "execution_count": 7,
   "id": "d6ea892b",
   "metadata": {},
   "outputs": [
    {
     "name": "stderr",
     "output_type": "stream",
     "text": [
      "C:\\Users\\conny\\AppData\\Local\\Temp\\ipykernel_18832\\801728160.py:4: UserWarning: \n",
      "\n",
      "The `bw` parameter is deprecated in favor of `bw_method` and `bw_adjust`.\n",
      "Setting `bw_method=0.25`, but please see the docs for the new parameters\n",
      "and update your code. This will become an error in seaborn v0.14.0.\n",
      "\n",
      "  sns.kdeplot(np.array(possession_length_count.id), bw=0.25)\n"
     ]
    },
    {
     "data": {
      "text/plain": [
       "<Axes: ylabel='Density'>"
      ]
     },
     "execution_count": 7,
     "metadata": {},
     "output_type": "execute_result"
    },
    {
     "data": {
      "image/png": "[encoded data removed]",
      "text/plain": [
       "<Figure size 640x480 with 1 Axes>"
      ]
     },
     "metadata": {},
     "output_type": "display_data"
    }
   ],
   "source": [
    "import numpy as np\n",
    "import seaborn as sns\n",
    "sns.set_style('whitegrid')\n",
    "sns.kdeplot(np.array(possession_length_count.id), bw=0.25)"
   ]
  },
  {
   "cell_type": "code",
   "execution_count": 8,
   "id": "788345f3",
   "metadata": {},
   "outputs": [
    {
     "name": "stderr",
     "output_type": "stream",
     "text": [
      "C:\\Users\\conny\\AppData\\Local\\Temp\\ipykernel_18832\\3324669436.py:2: UserWarning: set_ticklabels() should only be used with a fixed number of ticks, i.e. after set_ticks() or using a FixedLocator.\n",
      "  hist.set_xticklabels(hist.get_xticklabels(), rotation=90)\n"
     ]
    },
    {
     "data": {
      "text/plain": [
       "[Text(0, 0, 'Starting XI'),\n",
       " Text(1, 0, 'Half Start'),\n",
       " Text(2, 0, 'Pass'),\n",
       " Text(3, 0, 'Ball Receipt*'),\n",
       " Text(4, 0, 'Carry'),\n",
       " Text(5, 0, 'Pressure'),\n",
       " Text(6, 0, 'Dispossessed'),\n",
       " Text(7, 0, 'Duel'),\n",
       " Text(8, 0, 'Shot'),\n",
       " Text(9, 0, 'Block'),\n",
       " Text(10, 0, 'Goal Keeper'),\n",
       " Text(11, 0, 'Ball Recovery'),\n",
       " Text(12, 0, 'Miscontrol'),\n",
       " Text(13, 0, 'Clearance'),\n",
       " Text(14, 0, 'Dribbled Past'),\n",
       " Text(15, 0, 'Dribble'),\n",
       " Text(16, 0, 'Interception'),\n",
       " Text(17, 0, 'Foul Committed'),\n",
       " Text(18, 0, 'Foul Won'),\n",
       " Text(19, 0, 'Half End'),\n",
       " Text(20, 0, 'Substitution'),\n",
       " Text(21, 0, 'Injury Stoppage'),\n",
       " Text(22, 0, 'Tactical Shift'),\n",
       " Text(23, 0, 'Shield'),\n",
       " Text(24, 0, '50/50'),\n",
       " Text(25, 0, 'Offside'),\n",
       " Text(26, 0, 'Error'),\n",
       " Text(27, 0, 'Bad Behaviour'),\n",
       " Text(28, 0, 'Referee Ball-Drop'),\n",
       " Text(29, 0, 'Own Goal Against'),\n",
       " Text(30, 0, 'Own Goal For'),\n",
       " Text(31, 0, 'Player Off'),\n",
       " Text(32, 0, 'Player On')]"
      ]
     },
     "execution_count": 8,
     "metadata": {},
     "output_type": "execute_result"
    },
    {
     "data": {
      "image/png": "[encoded data removed]",
      "text/plain": [
       "<Figure size 640x480 with 1 Axes>"
      ]
     },
     "metadata": {},
     "output_type": "display_data"
    }
   ],
   "source": [
    "hist = sns.histplot(data=data, x=\"type.name\", stat=\"percent\")\n",
    "hist.set_xticklabels(hist.get_xticklabels(), rotation=90)"
   ]
  },
  {
   "cell_type": "markdown",
   "id": "6a83a900",
   "metadata": {},
   "source": [
    "use ball receipt, carry, pressure, due, miscontrol, dribble past, dribble as features"
   ]
  },
  {
   "cell_type": "code",
   "execution_count": 50,
   "id": "7791fa38",
   "metadata": {},
   "outputs": [
    {
     "data": {
      "text/plain": [
       "Index(['Unnamed: 0', 'id', 'index', 'period', 'timestamp', 'minute', 'second',\n",
       "       'possession', 'duration', 'related_events', 'location',\n",
       "       'under_pressure', 'counterpress', 'type.id', 'type.name',\n",
       "       'possession_team.id', 'possession_team.name', 'play_pattern.id',\n",
       "       'play_pattern.name', 'team.id', 'team.name', 'tactics.formation',\n",
       "       'tactics.lineup', 'player.id', 'player.name', 'position.id',\n",
       "       'position.name', 'pass.length', 'pass.angle', 'pass.height.id',\n",
       "       'pass.height.name', 'pass.body_part.id', 'pass.body_part.name',\n",
       "       'pass.type.id', 'pass.type.name', 'pass.outcome.id',\n",
       "       'pass.outcome.name', 'pass.receipient.id', 'pass.recipient.name',\n",
       "       'pass.end_location', 'dribble.outcome.id', 'dribble.outcome.name',\n",
       "       'ball_receipt.outcome.id', 'ball_receipt.outcome.name',\n",
       "       'carry.end_location', 'duel.outcome.id', 'duel.outcome.name',\n",
       "       'competition_id', 'match_id'],\n",
       "      dtype='object')"
      ]
     },
     "execution_count": 50,
     "metadata": {},
     "output_type": "execute_result"
    }
   ],
   "source": [
    "data.columns"
   ]
  },
  {
   "cell_type": "code",
   "execution_count": 48,
   "id": "c635f46c",
   "metadata": {},
   "outputs": [
    {
     "data": {
      "text/html": [
       "<div>\n",
       "<style scoped>\n",
       "    .dataframe tbody tr th:only-of-type {\n",
       "        vertical-align: middle;\n",
       "    }\n",
       "\n",
       "    .dataframe tbody tr th {\n",
       "        vertical-align: top;\n",
       "    }\n",
       "\n",
       "    .dataframe thead th {\n",
       "        text-align: right;\n",
       "    }\n",
       "</style>\n",
       "<table border=\"1\" class=\"dataframe\">\n",
       "  <thead>\n",
       "    <tr style=\"text-align: right;\">\n",
       "      <th></th>\n",
       "      <th>location</th>\n",
       "      <th>carry.end_location</th>\n",
       "    </tr>\n",
       "  </thead>\n",
       "  <tbody>\n",
       "    <tr>\n",
       "      <th>6</th>\n",
       "      <td>60.4, 43.6</td>\n",
       "      <td>60.4, 43.6</td>\n",
       "    </tr>\n",
       "    <tr>\n",
       "      <th>11</th>\n",
       "      <td>37.5, 76.1</td>\n",
       "      <td>37.5, 74.6</td>\n",
       "    </tr>\n",
       "    <tr>\n",
       "      <th>14</th>\n",
       "      <td>27.4, 58.1</td>\n",
       "      <td>27.4, 63.9</td>\n",
       "    </tr>\n",
       "    <tr>\n",
       "      <th>17</th>\n",
       "      <td>35.1, 77.8</td>\n",
       "      <td>30.4, 78</td>\n",
       "    </tr>\n",
       "    <tr>\n",
       "      <th>21</th>\n",
       "      <td>16.7, 75.5</td>\n",
       "      <td>19.1, 69.7</td>\n",
       "    </tr>\n",
       "  </tbody>\n",
       "</table>\n",
       "</div>"
      ],
      "text/plain": [
       "      location carry.end_location\n",
       "6   60.4, 43.6         60.4, 43.6\n",
       "11  37.5, 76.1         37.5, 74.6\n",
       "14  27.4, 58.1         27.4, 63.9\n",
       "17  35.1, 77.8           30.4, 78\n",
       "21  16.7, 75.5         19.1, 69.7"
      ]
     },
     "execution_count": 48,
     "metadata": {},
     "output_type": "execute_result"
    }
   ],
   "source": [
    "data[[\"location\",\"carry.end_location\"]][data[\"type.name\"]==\"Carry\"].head()"
   ]
  },
  {
   "cell_type": "code",
   "execution_count": 52,
   "id": "e1db53e8",
   "metadata": {},
   "outputs": [
    {
     "data": {
      "text/plain": [
       "0                 NaN\n",
       "1                 NaN\n",
       "2                 NaN\n",
       "3                 NaN\n",
       "4            61, 40.1\n",
       "              ...    \n",
       "1313778     75.5, 6.6\n",
       "1313779     77.7, 5.6\n",
       "1313780    77.7, 13.9\n",
       "1313781           NaN\n",
       "1313782           NaN\n",
       "Name: location, Length: 1313783, dtype: object"
      ]
     },
     "execution_count": 52,
     "metadata": {},
     "output_type": "execute_result"
    }
   ],
   "source": [
    "data[\"location\"]"
   ]
  },
  {
   "cell_type": "code",
   "execution_count": 54,
   "id": "d1db309c",
   "metadata": {},
   "outputs": [],
   "source": [
    "def split_coords(coord):\n",
    "    if isinstance(coord, str):\n",
    "        return map(float, coord.split(','))\n",
    "    elif isinstance(coord, (float, int)):\n",
    "        return coord, np.nan  # Handle single numeric values\n",
    "    else:\n",
    "        return np.nan, np.nan\n",
    "\n",
    "data[['loc_x', 'loc_y']] = data['location'].apply(\n",
    "    lambda x: pd.Series(split_coords(x))\n",
    ")\n",
    "data[['end_x', 'end_y']] = data['carry.end_location'].apply(\n",
    "    lambda x: pd.Series(split_coords(x))\n",
    ")\n",
    "\n",
    "# Calculate Euclidean distance\n",
    "data['distance'] = np.sqrt(\n",
    "    (data['end_x'] - data['loc_x'])**2 + \n",
    "    (data['end_y'] - data['loc_y'])**2\n",
    ")\n",
    "\n",
    "# Optional: Round to 2 decimal places\n",
    "data['distance'] = data['distance'].round(2)"
   ]
  },
  {
   "cell_type": "code",
   "execution_count": 58,
   "id": "1fb269d7",
   "metadata": {},
   "outputs": [
    {
     "data": {
      "text/plain": [
       "np.float64(0.0)"
      ]
     },
     "execution_count": 58,
     "metadata": {},
     "output_type": "execute_result"
    }
   ],
   "source": [
    "data.distance.min()"
   ]
  },
  {
   "cell_type": "code",
   "execution_count": 11,
   "id": "a3fb347c",
   "metadata": {},
   "outputs": [
    {
     "name": "stderr",
     "output_type": "stream",
     "text": [
      "C:\\Users\\conny\\AppData\\Local\\Temp\\ipykernel_18832\\1525310573.py:1: UserWarning: Could not infer format, so each element will be parsed individually, falling back to `dateutil`. To ensure parsing is consistent and as-expected, please specify a format.\n",
      "  data.timestamp = pd.to_datetime(data.timestamp)\n"
     ]
    }
   ],
   "source": [
    "data.timestamp = pd.to_datetime(data.timestamp)"
   ]
  },
  {
   "cell_type": "code",
   "execution_count": 39,
   "id": "d1dfc4d5",
   "metadata": {},
   "outputs": [
    {
     "name": "stdout",
     "output_type": "stream",
     "text": [
      "                     timestamp    type.name  player.id  in_possession  \\\n",
      "88194  2025-04-17 00:00:00.000  Starting XI        NaN              0   \n",
      "88195  2025-04-17 00:00:00.000  Starting XI        NaN              0   \n",
      "88196  2025-04-17 00:00:00.000   Half Start        NaN              0   \n",
      "88197  2025-04-17 00:00:00.000   Half Start        NaN              0   \n",
      "89966  2025-04-17 00:00:00.000   Half Start        NaN              0   \n",
      "...                        ...          ...        ...            ...   \n",
      "556453 2025-04-17 00:48:55.036        Carry     7780.0              1   \n",
      "556454 2025-04-17 00:48:56.196         Pass     7780.0              1   \n",
      "556455 2025-04-17 00:48:57.675    Clearance     3407.0              1   \n",
      "556456 2025-04-17 00:49:01.683     Half End        NaN              1   \n",
      "556457 2025-04-17 00:49:01.683     Half End        NaN              1   \n",
      "\n",
      "        possessing_player  \n",
      "88194                 NaN  \n",
      "88195                 NaN  \n",
      "88196                 NaN  \n",
      "88197                 NaN  \n",
      "89966                 NaN  \n",
      "...                   ...  \n",
      "556453             7780.0  \n",
      "556454             7780.0  \n",
      "556455             7780.0  \n",
      "556456             7780.0  \n",
      "556457             7780.0  \n",
      "\n",
      "[1313783 rows x 5 columns]\n"
     ]
    }
   ],
   "source": [
    "\n",
    "main_df = pd.DataFrame(data)\n",
    "\n",
    "# Sort - critical for logic (add 'index' to preserve original order if needed)\n",
    "#main_df = main_df.sort_values([\"match_id\",'timestamp',\"type.name\"]).reset_index(drop=True)\n",
    "main_df['sort_priority'] = main_df['type.name'].map({\n",
    "    'Ball Receipt*': 0,\n",
    "    \"Ball Recovery\":1,  # Highest priority (comes first)\n",
    "    'Pass': 2\n",
    "    # Add other types as needed\n",
    "    \n",
    "}).fillna(99)\n",
    "\n",
    "# Sort with priority\n",
    "main_df = main_df.sort_values(['match_id', 'timestamp', 'sort_priority'])\n",
    "# Vectorized possession detection -------------------------------------------------\n",
    "\n",
    "# 1. Mark all Ball Receipt events\n",
    "main_df['is_br'] = ((main_df['type.name'] == 'Ball Receipt*')|(main_df['type.name'] == 'Ball Recovery')).astype(int)\n",
    "\n",
    "# 2. Create possession groups using cumsum()\n",
    "main_df['poss_group'] = main_df['is_br'].cumsum()\n",
    "\n",
    "# 3. Forward-fill player.id within each possession group\n",
    "main_df['possessing_player'] = (main_df['player.id']\n",
    "                               .where(main_df['is_br'] == 1)\n",
    "                               .groupby(main_df['poss_group'])\n",
    "                               .ffill())\n",
    "\n",
    "# 4. Detect possession endings (Pass or new Ball Receipt)\n",
    "end_conditions = (\n",
    "    ((main_df['type.name'] == 'Pass') & \n",
    "    (main_df['player.id'] == main_df['possessing_player'])) | \\\n",
    "    ((main_df['type.name'] == 'Ball Receipt*') & \n",
    "    (main_df['player.id'] != main_df['possessing_player']))    | \\\n",
    "    ((main_df['type.name'] == 'Ball Recovery') & \n",
    "    (main_df['player.id'] != main_df['possessing_player'])))\n",
    "\n",
    "# 5. Create valid possession windows\n",
    "main_df['valid_possession'] = (main_df['poss_group']\n",
    "                              .isin(main_df.loc[end_conditions, 'poss_group'] - 1))\n",
    "\n",
    "# 6. Final in_possession flag\n",
    "#main_df['in_possession'] = np.where(\n",
    "#    (main_df['possessing_player'].notna()) & \n",
    "#    ((main_df['valid_possession']) | \n",
    "#     (main_df['is_br'] == 1)),\n",
    "#    1, 0\n",
    "#)\n",
    "main_df['in_possession'] = (\n",
    "    (main_df['possessing_player'].notna())\n",
    "    .astype(int)\n",
    ")\n",
    "# Cleanup ------------------------------------------------------------------------\n",
    "main_df = main_df.drop(columns=['is_br', 'poss_group', 'valid_possession'])\n",
    "\n",
    "# Result (showing key columns)\n",
    "print(main_df[['timestamp','type.name','player.id','in_possession','possessing_player']])"
   ]
  },
  {
   "cell_type": "code",
   "execution_count": 41,
   "id": "46210542",
   "metadata": {},
   "outputs": [],
   "source": [
    "change_mask = (\n",
    "    (main_df['in_possession'].diff() != 0) | \n",
    "    (main_df['possessing_player'] != main_df['possessing_player'].shift())\n",
    ")\n",
    "\n",
    " #Generate possession identifiers\n",
    "main_df['poss_identifier'] = (\n",
    "    change_mask.cumsum() * main_df['in_possession']\n",
    ").astype(int)\n",
    "\n"
   ]
  },
  {
   "cell_type": "code",
   "execution_count": 45,
   "id": "5481953b",
   "metadata": {},
   "outputs": [
    {
     "data": {
      "text/html": [
       "<div>\n",
       "<style scoped>\n",
       "    .dataframe tbody tr th:only-of-type {\n",
       "        vertical-align: middle;\n",
       "    }\n",
       "\n",
       "    .dataframe tbody tr th {\n",
       "        vertical-align: top;\n",
       "    }\n",
       "\n",
       "    .dataframe thead th {\n",
       "        text-align: right;\n",
       "    }\n",
       "</style>\n",
       "<table border=\"1\" class=\"dataframe\">\n",
       "  <thead>\n",
       "    <tr style=\"text-align: right;\">\n",
       "      <th></th>\n",
       "      <th>Unnamed: 0</th>\n",
       "      <th>id</th>\n",
       "      <th>index</th>\n",
       "      <th>period</th>\n",
       "      <th>timestamp</th>\n",
       "      <th>minute</th>\n",
       "      <th>second</th>\n",
       "      <th>possession</th>\n",
       "      <th>duration</th>\n",
       "      <th>related_events</th>\n",
       "      <th>...</th>\n",
       "      <th>carry.end_location</th>\n",
       "      <th>duel.outcome.id</th>\n",
       "      <th>duel.outcome.name</th>\n",
       "      <th>competition_id</th>\n",
       "      <th>match_id</th>\n",
       "      <th>sort_priority</th>\n",
       "      <th>possessing_player</th>\n",
       "      <th>in_possession</th>\n",
       "      <th>poss_identifier</th>\n",
       "      <th>possession_id</th>\n",
       "    </tr>\n",
       "  </thead>\n",
       "  <tbody>\n",
       "    <tr>\n",
       "      <th>556448</th>\n",
       "      <td>556449</td>\n",
       "      <td>6234511b-f977-47fe-a46e-5462ceb6165a</td>\n",
       "      <td>3134</td>\n",
       "      <td>2</td>\n",
       "      <td>2025-04-17 00:48:51.331</td>\n",
       "      <td>93</td>\n",
       "      <td>51</td>\n",
       "      <td>184</td>\n",
       "      <td>1.887346</td>\n",
       "      <td>32e39785-016c-4d67-92f3-0162f6ea2762</td>\n",
       "      <td>...</td>\n",
       "      <td>NaN</td>\n",
       "      <td>NaN</td>\n",
       "      <td>NaN</td>\n",
       "      <td>2</td>\n",
       "      <td>3754351</td>\n",
       "      <td>2.0</td>\n",
       "      <td>7780.0</td>\n",
       "      <td>1</td>\n",
       "      <td>371897</td>\n",
       "      <td>371891</td>\n",
       "    </tr>\n",
       "    <tr>\n",
       "      <th>556449</th>\n",
       "      <td>556450</td>\n",
       "      <td>32e39785-016c-4d67-92f3-0162f6ea2762</td>\n",
       "      <td>3135</td>\n",
       "      <td>2</td>\n",
       "      <td>2025-04-17 00:48:53.218</td>\n",
       "      <td>93</td>\n",
       "      <td>53</td>\n",
       "      <td>184</td>\n",
       "      <td>NaN</td>\n",
       "      <td>6234511b-f977-47fe-a46e-5462ceb6165a</td>\n",
       "      <td>...</td>\n",
       "      <td>NaN</td>\n",
       "      <td>NaN</td>\n",
       "      <td>NaN</td>\n",
       "      <td>2</td>\n",
       "      <td>3754351</td>\n",
       "      <td>0.0</td>\n",
       "      <td>3515.0</td>\n",
       "      <td>1</td>\n",
       "      <td>371898</td>\n",
       "      <td>371892</td>\n",
       "    </tr>\n",
       "    <tr>\n",
       "      <th>556450</th>\n",
       "      <td>556451</td>\n",
       "      <td>11784ff8-1297-4bec-9cd8-2910074aae0b</td>\n",
       "      <td>3136</td>\n",
       "      <td>2</td>\n",
       "      <td>2025-04-17 00:48:53.218</td>\n",
       "      <td>93</td>\n",
       "      <td>53</td>\n",
       "      <td>184</td>\n",
       "      <td>0.757665</td>\n",
       "      <td>32e39785-016c-4d67-92f3-0162f6ea2762, c37cd068...</td>\n",
       "      <td>...</td>\n",
       "      <td>82.8, 14.5</td>\n",
       "      <td>NaN</td>\n",
       "      <td>NaN</td>\n",
       "      <td>2</td>\n",
       "      <td>3754351</td>\n",
       "      <td>99.0</td>\n",
       "      <td>3515.0</td>\n",
       "      <td>1</td>\n",
       "      <td>371898</td>\n",
       "      <td>371892</td>\n",
       "    </tr>\n",
       "    <tr>\n",
       "      <th>556451</th>\n",
       "      <td>556452</td>\n",
       "      <td>c37cd068-cd4a-4596-ba45-083778290ce4</td>\n",
       "      <td>3137</td>\n",
       "      <td>2</td>\n",
       "      <td>2025-04-17 00:48:53.976</td>\n",
       "      <td>93</td>\n",
       "      <td>53</td>\n",
       "      <td>184</td>\n",
       "      <td>1.060871</td>\n",
       "      <td>b1d018cc-f563-49c7-83e2-221255849e5e</td>\n",
       "      <td>...</td>\n",
       "      <td>NaN</td>\n",
       "      <td>NaN</td>\n",
       "      <td>NaN</td>\n",
       "      <td>2</td>\n",
       "      <td>3754351</td>\n",
       "      <td>2.0</td>\n",
       "      <td>3515.0</td>\n",
       "      <td>1</td>\n",
       "      <td>371898</td>\n",
       "      <td>371892</td>\n",
       "    </tr>\n",
       "    <tr>\n",
       "      <th>556452</th>\n",
       "      <td>556453</td>\n",
       "      <td>b1d018cc-f563-49c7-83e2-221255849e5e</td>\n",
       "      <td>3138</td>\n",
       "      <td>2</td>\n",
       "      <td>2025-04-17 00:48:55.036</td>\n",
       "      <td>93</td>\n",
       "      <td>55</td>\n",
       "      <td>184</td>\n",
       "      <td>NaN</td>\n",
       "      <td>c37cd068-cd4a-4596-ba45-083778290ce4</td>\n",
       "      <td>...</td>\n",
       "      <td>NaN</td>\n",
       "      <td>NaN</td>\n",
       "      <td>NaN</td>\n",
       "      <td>2</td>\n",
       "      <td>3754351</td>\n",
       "      <td>0.0</td>\n",
       "      <td>7780.0</td>\n",
       "      <td>1</td>\n",
       "      <td>371899</td>\n",
       "      <td>371893</td>\n",
       "    </tr>\n",
       "    <tr>\n",
       "      <th>556453</th>\n",
       "      <td>556454</td>\n",
       "      <td>c7738969-f2cd-4c5a-a4b5-65c04b48a0c1</td>\n",
       "      <td>3139</td>\n",
       "      <td>2</td>\n",
       "      <td>2025-04-17 00:48:55.036</td>\n",
       "      <td>93</td>\n",
       "      <td>55</td>\n",
       "      <td>184</td>\n",
       "      <td>1.159927</td>\n",
       "      <td>19f1c1f4-a281-4943-8de4-416a5c63e6dd, b1d018cc...</td>\n",
       "      <td>...</td>\n",
       "      <td>75.6, 31.4</td>\n",
       "      <td>NaN</td>\n",
       "      <td>NaN</td>\n",
       "      <td>2</td>\n",
       "      <td>3754351</td>\n",
       "      <td>99.0</td>\n",
       "      <td>7780.0</td>\n",
       "      <td>1</td>\n",
       "      <td>371899</td>\n",
       "      <td>371893</td>\n",
       "    </tr>\n",
       "    <tr>\n",
       "      <th>556454</th>\n",
       "      <td>556455</td>\n",
       "      <td>19f1c1f4-a281-4943-8de4-416a5c63e6dd</td>\n",
       "      <td>3140</td>\n",
       "      <td>2</td>\n",
       "      <td>2025-04-17 00:48:56.196</td>\n",
       "      <td>93</td>\n",
       "      <td>56</td>\n",
       "      <td>184</td>\n",
       "      <td>1.478724</td>\n",
       "      <td>325fe8e3-81a4-4876-ae82-3d76903967f6</td>\n",
       "      <td>...</td>\n",
       "      <td>NaN</td>\n",
       "      <td>NaN</td>\n",
       "      <td>NaN</td>\n",
       "      <td>2</td>\n",
       "      <td>3754351</td>\n",
       "      <td>2.0</td>\n",
       "      <td>7780.0</td>\n",
       "      <td>1</td>\n",
       "      <td>371899</td>\n",
       "      <td>371893</td>\n",
       "    </tr>\n",
       "    <tr>\n",
       "      <th>556455</th>\n",
       "      <td>556456</td>\n",
       "      <td>325fe8e3-81a4-4876-ae82-3d76903967f6</td>\n",
       "      <td>3141</td>\n",
       "      <td>2</td>\n",
       "      <td>2025-04-17 00:48:57.675</td>\n",
       "      <td>93</td>\n",
       "      <td>57</td>\n",
       "      <td>184</td>\n",
       "      <td>0.000000</td>\n",
       "      <td>19f1c1f4-a281-4943-8de4-416a5c63e6dd</td>\n",
       "      <td>...</td>\n",
       "      <td>NaN</td>\n",
       "      <td>NaN</td>\n",
       "      <td>NaN</td>\n",
       "      <td>2</td>\n",
       "      <td>3754351</td>\n",
       "      <td>99.0</td>\n",
       "      <td>7780.0</td>\n",
       "      <td>1</td>\n",
       "      <td>371899</td>\n",
       "      <td>371893</td>\n",
       "    </tr>\n",
       "    <tr>\n",
       "      <th>556456</th>\n",
       "      <td>556457</td>\n",
       "      <td>4265711a-a4d3-4e73-aa6c-d506ccee722f</td>\n",
       "      <td>3142</td>\n",
       "      <td>2</td>\n",
       "      <td>2025-04-17 00:49:01.683</td>\n",
       "      <td>94</td>\n",
       "      <td>1</td>\n",
       "      <td>184</td>\n",
       "      <td>0.000000</td>\n",
       "      <td>dd50f887-7e7f-4161-a04f-da24bd99f24a</td>\n",
       "      <td>...</td>\n",
       "      <td>NaN</td>\n",
       "      <td>NaN</td>\n",
       "      <td>NaN</td>\n",
       "      <td>2</td>\n",
       "      <td>3754351</td>\n",
       "      <td>99.0</td>\n",
       "      <td>7780.0</td>\n",
       "      <td>1</td>\n",
       "      <td>371899</td>\n",
       "      <td>371893</td>\n",
       "    </tr>\n",
       "    <tr>\n",
       "      <th>556457</th>\n",
       "      <td>556458</td>\n",
       "      <td>dd50f887-7e7f-4161-a04f-da24bd99f24a</td>\n",
       "      <td>3143</td>\n",
       "      <td>2</td>\n",
       "      <td>2025-04-17 00:49:01.683</td>\n",
       "      <td>94</td>\n",
       "      <td>1</td>\n",
       "      <td>184</td>\n",
       "      <td>0.000000</td>\n",
       "      <td>4265711a-a4d3-4e73-aa6c-d506ccee722f</td>\n",
       "      <td>...</td>\n",
       "      <td>NaN</td>\n",
       "      <td>NaN</td>\n",
       "      <td>NaN</td>\n",
       "      <td>2</td>\n",
       "      <td>3754351</td>\n",
       "      <td>99.0</td>\n",
       "      <td>7780.0</td>\n",
       "      <td>1</td>\n",
       "      <td>371899</td>\n",
       "      <td>371893</td>\n",
       "    </tr>\n",
       "  </tbody>\n",
       "</table>\n",
       "<p>10 rows × 54 columns</p>\n",
       "</div>"
      ],
      "text/plain": [
       "        Unnamed: 0                                    id  index  period  \\\n",
       "556448      556449  6234511b-f977-47fe-a46e-5462ceb6165a   3134       2   \n",
       "556449      556450  32e39785-016c-4d67-92f3-0162f6ea2762   3135       2   \n",
       "556450      556451  11784ff8-1297-4bec-9cd8-2910074aae0b   3136       2   \n",
       "556451      556452  c37cd068-cd4a-4596-ba45-083778290ce4   3137       2   \n",
       "556452      556453  b1d018cc-f563-49c7-83e2-221255849e5e   3138       2   \n",
       "556453      556454  c7738969-f2cd-4c5a-a4b5-65c04b48a0c1   3139       2   \n",
       "556454      556455  19f1c1f4-a281-4943-8de4-416a5c63e6dd   3140       2   \n",
       "556455      556456  325fe8e3-81a4-4876-ae82-3d76903967f6   3141       2   \n",
       "556456      556457  4265711a-a4d3-4e73-aa6c-d506ccee722f   3142       2   \n",
       "556457      556458  dd50f887-7e7f-4161-a04f-da24bd99f24a   3143       2   \n",
       "\n",
       "                     timestamp  minute  second  possession  duration  \\\n",
       "556448 2025-04-17 00:48:51.331      93      51         184  1.887346   \n",
       "556449 2025-04-17 00:48:53.218      93      53         184       NaN   \n",
       "556450 2025-04-17 00:48:53.218      93      53         184  0.757665   \n",
       "556451 2025-04-17 00:48:53.976      93      53         184  1.060871   \n",
       "556452 2025-04-17 00:48:55.036      93      55         184       NaN   \n",
       "556453 2025-04-17 00:48:55.036      93      55         184  1.159927   \n",
       "556454 2025-04-17 00:48:56.196      93      56         184  1.478724   \n",
       "556455 2025-04-17 00:48:57.675      93      57         184  0.000000   \n",
       "556456 2025-04-17 00:49:01.683      94       1         184  0.000000   \n",
       "556457 2025-04-17 00:49:01.683      94       1         184  0.000000   \n",
       "\n",
       "                                           related_events  ...  \\\n",
       "556448               32e39785-016c-4d67-92f3-0162f6ea2762  ...   \n",
       "556449               6234511b-f977-47fe-a46e-5462ceb6165a  ...   \n",
       "556450  32e39785-016c-4d67-92f3-0162f6ea2762, c37cd068...  ...   \n",
       "556451               b1d018cc-f563-49c7-83e2-221255849e5e  ...   \n",
       "556452               c37cd068-cd4a-4596-ba45-083778290ce4  ...   \n",
       "556453  19f1c1f4-a281-4943-8de4-416a5c63e6dd, b1d018cc...  ...   \n",
       "556454               325fe8e3-81a4-4876-ae82-3d76903967f6  ...   \n",
       "556455               19f1c1f4-a281-4943-8de4-416a5c63e6dd  ...   \n",
       "556456               dd50f887-7e7f-4161-a04f-da24bd99f24a  ...   \n",
       "556457               4265711a-a4d3-4e73-aa6c-d506ccee722f  ...   \n",
       "\n",
       "       carry.end_location duel.outcome.id duel.outcome.name  competition_id  \\\n",
       "556448                NaN             NaN               NaN               2   \n",
       "556449                NaN             NaN               NaN               2   \n",
       "556450         82.8, 14.5             NaN               NaN               2   \n",
       "556451                NaN             NaN               NaN               2   \n",
       "556452                NaN             NaN               NaN               2   \n",
       "556453         75.6, 31.4             NaN               NaN               2   \n",
       "556454                NaN             NaN               NaN               2   \n",
       "556455                NaN             NaN               NaN               2   \n",
       "556456                NaN             NaN               NaN               2   \n",
       "556457                NaN             NaN               NaN               2   \n",
       "\n",
       "       match_id  sort_priority possessing_player  in_possession  \\\n",
       "556448  3754351            2.0            7780.0              1   \n",
       "556449  3754351            0.0            3515.0              1   \n",
       "556450  3754351           99.0            3515.0              1   \n",
       "556451  3754351            2.0            3515.0              1   \n",
       "556452  3754351            0.0            7780.0              1   \n",
       "556453  3754351           99.0            7780.0              1   \n",
       "556454  3754351            2.0            7780.0              1   \n",
       "556455  3754351           99.0            7780.0              1   \n",
       "556456  3754351           99.0            7780.0              1   \n",
       "556457  3754351           99.0            7780.0              1   \n",
       "\n",
       "       poss_identifier  possession_id  \n",
       "556448          371897         371891  \n",
       "556449          371898         371892  \n",
       "556450          371898         371892  \n",
       "556451          371898         371892  \n",
       "556452          371899         371893  \n",
       "556453          371899         371893  \n",
       "556454          371899         371893  \n",
       "556455          371899         371893  \n",
       "556456          371899         371893  \n",
       "556457          371899         371893  \n",
       "\n",
       "[10 rows x 54 columns]"
      ]
     },
     "execution_count": 45,
     "metadata": {},
     "output_type": "execute_result"
    }
   ],
   "source": [
    "main_df[\"possession_id\"] = poss_identifier\n",
    "main_df.tail(10)"
   ]
  },
  {
   "cell_type": "markdown",
   "id": "4f9ee177",
   "metadata": {},
   "source": [
    "tensor containing pressure, distance, duration, dribble, dribble past"
   ]
  },
  {
   "cell_type": "code",
   "execution_count": 60,
   "id": "2f2583b1",
   "metadata": {},
   "outputs": [
    {
     "data": {
      "text/plain": [
       "array([nan, 'Complete', 'Incomplete'], dtype=object)"
      ]
     },
     "execution_count": 60,
     "metadata": {},
     "output_type": "execute_result"
    }
   ],
   "source": [
    "data[\"dribble.outcome.name\"].unique()"
   ]
  },
  {
   "cell_type": "code",
   "execution_count": 61,
   "id": "9a08f28b",
   "metadata": {},
   "outputs": [
    {
     "data": {
      "text/plain": [
       "90235        147\n",
       "90249        156\n",
       "88435        160\n",
       "90262        164\n",
       "90269        165\n",
       "           ...  \n",
       "555968    371637\n",
       "556312    371824\n",
       "556404    371862\n",
       "556412    371868\n",
       "556415    371871\n",
       "Name: possession_id, Length: 9112, dtype: int64"
      ]
     },
     "execution_count": 61,
     "metadata": {},
     "output_type": "execute_result"
    }
   ],
   "source": [
    "main_df[\"possession_id\"][main_df[\"type.name\"]==\"Foul Won\"]"
   ]
  }
 ],
 "metadata": {
  "kernelspec": {
   "display_name": "Python 3",
   "language": "python",
   "name": "python3"
  },
  "language_info": {
   "codemirror_mode": {
    "name": "ipython",
    "version": 3
   },
   "file_extension": ".py",
   "mimetype": "text/x-python",
   "name": "python",
   "nbconvert_exporter": "python",
   "pygments_lexer": "ipython3",
   "version": "3.11.9"
  }
 },
 "nbformat": 4,
 "nbformat_minor": 5
}
