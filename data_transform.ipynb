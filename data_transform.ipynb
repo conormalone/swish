{
 "cells": [
  {
   "cell_type": "code",
   "execution_count": 1,
   "id": "ef6a82f8",
   "metadata": {},
   "outputs": [
    {
     "name": "stdout",
     "output_type": "stream",
     "text": [
      "Requirement already satisfied: numpy in c:\\users\\conny\\appdata\\local\\packages\\pythonsoftwarefoundation.python.3.11_qbz5n2kfra8p0\\localcache\\local-packages\\python311\\site-packages (2.1.3)\n",
      "Note: you may need to restart the kernel to use updated packages.\n"
     ]
    },
    {
     "name": "stderr",
     "output_type": "stream",
     "text": [
      "\n",
      "[notice] A new release of pip is available: 24.0 -> 25.0.1\n",
      "[notice] To update, run: C:\\Users\\conny\\AppData\\Local\\Microsoft\\WindowsApps\\PythonSoftwareFoundation.Python.3.11_qbz5n2kfra8p0\\python.exe -m pip install --upgrade pip\n"
     ]
    }
   ],
   "source": [
    "pip install numpy"
   ]
  },
  {
   "cell_type": "code",
   "execution_count": 2,
   "id": "5cebb75a",
   "metadata": {},
   "outputs": [
    {
     "name": "stdout",
     "output_type": "stream",
     "text": [
      "Requirement already satisfied: pandas in c:\\users\\conny\\appdata\\local\\packages\\pythonsoftwarefoundation.python.3.11_qbz5n2kfra8p0\\localcache\\local-packages\\python311\\site-packages (2.2.3)\n",
      "Requirement already satisfied: numpy>=1.23.2 in c:\\users\\conny\\appdata\\local\\packages\\pythonsoftwarefoundation.python.3.11_qbz5n2kfra8p0\\localcache\\local-packages\\python311\\site-packages (from pandas) (2.1.3)\n",
      "Requirement already satisfied: python-dateutil>=2.8.2 in c:\\users\\conny\\appdata\\local\\packages\\pythonsoftwarefoundation.python.3.11_qbz5n2kfra8p0\\localcache\\local-packages\\python311\\site-packages (from pandas) (2.9.0.post0)\n",
      "Requirement already satisfied: pytz>=2020.1 in c:\\users\\conny\\appdata\\local\\packages\\pythonsoftwarefoundation.python.3.11_qbz5n2kfra8p0\\localcache\\local-packages\\python311\\site-packages (from pandas) (2025.1)\n",
      "Requirement already satisfied: tzdata>=2022.7 in c:\\users\\conny\\appdata\\local\\packages\\pythonsoftwarefoundation.python.3.11_qbz5n2kfra8p0\\localcache\\local-packages\\python311\\site-packages (from pandas) (2025.1)\n",
      "Requirement already satisfied: six>=1.5 in c:\\users\\conny\\appdata\\local\\packages\\pythonsoftwarefoundation.python.3.11_qbz5n2kfra8p0\\localcache\\local-packages\\python311\\site-packages (from python-dateutil>=2.8.2->pandas) (1.17.0)\n",
      "Note: you may need to restart the kernel to use updated packages.\n"
     ]
    },
    {
     "name": "stderr",
     "output_type": "stream",
     "text": [
      "\n",
      "[notice] A new release of pip is available: 24.0 -> 25.0.1\n",
      "[notice] To update, run: C:\\Users\\conny\\AppData\\Local\\Microsoft\\WindowsApps\\PythonSoftwareFoundation.Python.3.11_qbz5n2kfra8p0\\python.exe -m pip install --upgrade pip\n"
     ]
    }
   ],
   "source": [
    "pip install pandas"
   ]
  },
  {
   "cell_type": "code",
   "execution_count": 3,
   "id": "58273e54",
   "metadata": {},
   "outputs": [],
   "source": [
    "import pandas as pd\n",
    "import numpy as np"
   ]
  },
  {
   "cell_type": "code",
   "execution_count": 4,
   "id": "1dc2f7eb",
   "metadata": {},
   "outputs": [],
   "source": [
    "data = pd.read_csv(\"epl_event_data_15.csv\")"
   ]
  },
  {
   "cell_type": "code",
   "execution_count": 6,
   "id": "c4c6a22f",
   "metadata": {},
   "outputs": [
    {
     "data": {
      "text/plain": [
       "Index(['Unnamed: 0', 'id', 'index', 'period', 'timestamp', 'minute', 'second',\n",
       "       'possession', 'duration', 'related_events', 'location',\n",
       "       'under_pressure', 'counterpress', 'type.id', 'type.name',\n",
       "       'possession_team.id', 'possession_team.name', 'play_pattern.id',\n",
       "       'play_pattern.name', 'team.id', 'team.name', 'tactics.formation',\n",
       "       'tactics.lineup', 'player.id', 'player.name', 'position.id',\n",
       "       'position.name', 'pass.length', 'pass.angle', 'pass.height.id',\n",
       "       'pass.height.name', 'pass.body_part.id', 'pass.body_part.name',\n",
       "       'pass.type.id', 'pass.type.name', 'pass.outcome.id',\n",
       "       'pass.outcome.name', 'pass.receipient.id', 'pass.recipient.name',\n",
       "       'pass.end_location', 'dribble.outcome.id', 'dribble.outcome.name',\n",
       "       'ball_receipt.outcome.id', 'ball_receipt.outcome.name',\n",
       "       'carry.end_location', 'duel.outcome.id', 'duel.outcome.name',\n",
       "       'competition_id', 'match_id'],\n",
       "      dtype='object')"
      ]
     },
     "execution_count": 6,
     "metadata": {},
     "output_type": "execute_result"
    }
   ],
   "source": [
    "data.columns"
   ]
  },
  {
   "cell_type": "code",
   "execution_count": 5,
   "id": "c635f46c",
   "metadata": {},
   "outputs": [
    {
     "data": {
      "text/html": [
       "<div>\n",
       "<style scoped>\n",
       "    .dataframe tbody tr th:only-of-type {\n",
       "        vertical-align: middle;\n",
       "    }\n",
       "\n",
       "    .dataframe tbody tr th {\n",
       "        vertical-align: top;\n",
       "    }\n",
       "\n",
       "    .dataframe thead th {\n",
       "        text-align: right;\n",
       "    }\n",
       "</style>\n",
       "<table border=\"1\" class=\"dataframe\">\n",
       "  <thead>\n",
       "    <tr style=\"text-align: right;\">\n",
       "      <th></th>\n",
       "      <th>Unnamed: 0</th>\n",
       "      <th>id</th>\n",
       "      <th>index</th>\n",
       "      <th>period</th>\n",
       "      <th>timestamp</th>\n",
       "      <th>minute</th>\n",
       "      <th>second</th>\n",
       "      <th>possession</th>\n",
       "      <th>duration</th>\n",
       "      <th>related_events</th>\n",
       "      <th>...</th>\n",
       "      <th>pass.end_location</th>\n",
       "      <th>dribble.outcome.id</th>\n",
       "      <th>dribble.outcome.name</th>\n",
       "      <th>ball_receipt.outcome.id</th>\n",
       "      <th>ball_receipt.outcome.name</th>\n",
       "      <th>carry.end_location</th>\n",
       "      <th>duel.outcome.id</th>\n",
       "      <th>duel.outcome.name</th>\n",
       "      <th>competition_id</th>\n",
       "      <th>match_id</th>\n",
       "    </tr>\n",
       "  </thead>\n",
       "  <tbody>\n",
       "    <tr>\n",
       "      <th>0</th>\n",
       "      <td>1</td>\n",
       "      <td>9153e9f4-f69c-4e04-8f64-505592e212cd</td>\n",
       "      <td>1</td>\n",
       "      <td>1</td>\n",
       "      <td>00:00:00.000</td>\n",
       "      <td>0</td>\n",
       "      <td>0</td>\n",
       "      <td>1</td>\n",
       "      <td>0.000000</td>\n",
       "      <td>NaN</td>\n",
       "      <td>...</td>\n",
       "      <td>NaN</td>\n",
       "      <td>NaN</td>\n",
       "      <td>NaN</td>\n",
       "      <td>NaN</td>\n",
       "      <td>NaN</td>\n",
       "      <td>NaN</td>\n",
       "      <td>NaN</td>\n",
       "      <td>NaN</td>\n",
       "      <td>2</td>\n",
       "      <td>3754058</td>\n",
       "    </tr>\n",
       "    <tr>\n",
       "      <th>1</th>\n",
       "      <td>2</td>\n",
       "      <td>3fbcf4e7-94d1-485a-be85-fd26a6af0318</td>\n",
       "      <td>2</td>\n",
       "      <td>1</td>\n",
       "      <td>00:00:00.000</td>\n",
       "      <td>0</td>\n",
       "      <td>0</td>\n",
       "      <td>1</td>\n",
       "      <td>0.000000</td>\n",
       "      <td>NaN</td>\n",
       "      <td>...</td>\n",
       "      <td>NaN</td>\n",
       "      <td>NaN</td>\n",
       "      <td>NaN</td>\n",
       "      <td>NaN</td>\n",
       "      <td>NaN</td>\n",
       "      <td>NaN</td>\n",
       "      <td>NaN</td>\n",
       "      <td>NaN</td>\n",
       "      <td>2</td>\n",
       "      <td>3754058</td>\n",
       "    </tr>\n",
       "    <tr>\n",
       "      <th>2</th>\n",
       "      <td>3</td>\n",
       "      <td>06a9a4dc-d9c9-40f6-bd89-437ba7fe682d</td>\n",
       "      <td>3</td>\n",
       "      <td>1</td>\n",
       "      <td>00:00:00.000</td>\n",
       "      <td>0</td>\n",
       "      <td>0</td>\n",
       "      <td>1</td>\n",
       "      <td>0.000000</td>\n",
       "      <td>100362ee-9311-4187-bd8a-0201d9db2565</td>\n",
       "      <td>...</td>\n",
       "      <td>NaN</td>\n",
       "      <td>NaN</td>\n",
       "      <td>NaN</td>\n",
       "      <td>NaN</td>\n",
       "      <td>NaN</td>\n",
       "      <td>NaN</td>\n",
       "      <td>NaN</td>\n",
       "      <td>NaN</td>\n",
       "      <td>2</td>\n",
       "      <td>3754058</td>\n",
       "    </tr>\n",
       "    <tr>\n",
       "      <th>3</th>\n",
       "      <td>4</td>\n",
       "      <td>100362ee-9311-4187-bd8a-0201d9db2565</td>\n",
       "      <td>4</td>\n",
       "      <td>1</td>\n",
       "      <td>00:00:00.000</td>\n",
       "      <td>0</td>\n",
       "      <td>0</td>\n",
       "      <td>1</td>\n",
       "      <td>0.000000</td>\n",
       "      <td>06a9a4dc-d9c9-40f6-bd89-437ba7fe682d</td>\n",
       "      <td>...</td>\n",
       "      <td>NaN</td>\n",
       "      <td>NaN</td>\n",
       "      <td>NaN</td>\n",
       "      <td>NaN</td>\n",
       "      <td>NaN</td>\n",
       "      <td>NaN</td>\n",
       "      <td>NaN</td>\n",
       "      <td>NaN</td>\n",
       "      <td>2</td>\n",
       "      <td>3754058</td>\n",
       "    </tr>\n",
       "    <tr>\n",
       "      <th>4</th>\n",
       "      <td>5</td>\n",
       "      <td>2ca23eea-a984-47e4-8243-8f00880ad1c9</td>\n",
       "      <td>5</td>\n",
       "      <td>1</td>\n",
       "      <td>00:00:01.753</td>\n",
       "      <td>0</td>\n",
       "      <td>1</td>\n",
       "      <td>2</td>\n",
       "      <td>0.308263</td>\n",
       "      <td>1f98c89e-2326-4200-8c12-a987fdbbaf2e</td>\n",
       "      <td>...</td>\n",
       "      <td>60.4, 43.6</td>\n",
       "      <td>NaN</td>\n",
       "      <td>NaN</td>\n",
       "      <td>NaN</td>\n",
       "      <td>NaN</td>\n",
       "      <td>NaN</td>\n",
       "      <td>NaN</td>\n",
       "      <td>NaN</td>\n",
       "      <td>2</td>\n",
       "      <td>3754058</td>\n",
       "    </tr>\n",
       "  </tbody>\n",
       "</table>\n",
       "<p>5 rows × 49 columns</p>\n",
       "</div>"
      ],
      "text/plain": [
       "   Unnamed: 0                                    id  index  period  \\\n",
       "0           1  9153e9f4-f69c-4e04-8f64-505592e212cd      1       1   \n",
       "1           2  3fbcf4e7-94d1-485a-be85-fd26a6af0318      2       1   \n",
       "2           3  06a9a4dc-d9c9-40f6-bd89-437ba7fe682d      3       1   \n",
       "3           4  100362ee-9311-4187-bd8a-0201d9db2565      4       1   \n",
       "4           5  2ca23eea-a984-47e4-8243-8f00880ad1c9      5       1   \n",
       "\n",
       "      timestamp  minute  second  possession  duration  \\\n",
       "0  00:00:00.000       0       0           1  0.000000   \n",
       "1  00:00:00.000       0       0           1  0.000000   \n",
       "2  00:00:00.000       0       0           1  0.000000   \n",
       "3  00:00:00.000       0       0           1  0.000000   \n",
       "4  00:00:01.753       0       1           2  0.308263   \n",
       "\n",
       "                         related_events  ... pass.end_location  \\\n",
       "0                                   NaN  ...               NaN   \n",
       "1                                   NaN  ...               NaN   \n",
       "2  100362ee-9311-4187-bd8a-0201d9db2565  ...               NaN   \n",
       "3  06a9a4dc-d9c9-40f6-bd89-437ba7fe682d  ...               NaN   \n",
       "4  1f98c89e-2326-4200-8c12-a987fdbbaf2e  ...        60.4, 43.6   \n",
       "\n",
       "  dribble.outcome.id dribble.outcome.name  ball_receipt.outcome.id  \\\n",
       "0                NaN                  NaN                      NaN   \n",
       "1                NaN                  NaN                      NaN   \n",
       "2                NaN                  NaN                      NaN   \n",
       "3                NaN                  NaN                      NaN   \n",
       "4                NaN                  NaN                      NaN   \n",
       "\n",
       "  ball_receipt.outcome.name  carry.end_location duel.outcome.id  \\\n",
       "0                       NaN                 NaN             NaN   \n",
       "1                       NaN                 NaN             NaN   \n",
       "2                       NaN                 NaN             NaN   \n",
       "3                       NaN                 NaN             NaN   \n",
       "4                       NaN                 NaN             NaN   \n",
       "\n",
       "   duel.outcome.name competition_id  match_id  \n",
       "0                NaN              2   3754058  \n",
       "1                NaN              2   3754058  \n",
       "2                NaN              2   3754058  \n",
       "3                NaN              2   3754058  \n",
       "4                NaN              2   3754058  \n",
       "\n",
       "[5 rows x 49 columns]"
      ]
     },
     "execution_count": 5,
     "metadata": {},
     "output_type": "execute_result"
    }
   ],
   "source": [
    "data.head()"
   ]
  }
 ],
 "metadata": {
  "kernelspec": {
   "display_name": "Python 3",
   "language": "python",
   "name": "python3"
  },
  "language_info": {
   "codemirror_mode": {
    "name": "ipython",
    "version": 3
   },
   "file_extension": ".py",
   "mimetype": "text/x-python",
   "name": "python",
   "nbconvert_exporter": "python",
   "pygments_lexer": "ipython3",
   "version": "3.11.9"
  }
 },
 "nbformat": 4,
 "nbformat_minor": 5
}
